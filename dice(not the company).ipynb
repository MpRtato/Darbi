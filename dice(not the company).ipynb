{
 "cells": [
  {
   "cell_type": "code",
   "execution_count": 6,
   "id": "d4b60533",
   "metadata": {
    "scrolled": true
   },
   "outputs": [
    {
     "name": "stdout",
     "output_type": "stream",
     "text": [
      "Metamo kaulinu skaits: \n",
      "> 2\n",
      "\n",
      "XOXOX\n",
      "XXXXX\n",
      "XOXOX\n",
      "\n",
      "XXXXX\n",
      "XXOXX\n",
      "XXXXX\n",
      "\n",
      "atkartot? (y/n), sum - lai iegutu kaulinu summu\n",
      "> sum\n",
      "summa: 5\n",
      "\n",
      "atkartot? (y/n), sum - lai iegutu kaulinu summu\n",
      "> n\n"
     ]
    }
   ],
   "source": [
    "import random\n",
    "\n",
    "#funkcija\n",
    "def dice(nr):\n",
    "    #1\n",
    "    if nr==1:\n",
    "        print('XXXXX'); print('XXOXX'); print('XXXXX')\n",
    "    #2\n",
    "    elif nr==2:\n",
    "        print('XXXOX'); print('XXXXX'); print('XOXXX')\n",
    "    #3\n",
    "    elif nr==3:\n",
    "        print('XXXOX'); print('XXOXX'); print('XOXXX')\n",
    "    #4\n",
    "    elif nr==4:\n",
    "        print('XOXOX'); print('XXXXX'); print('XOXOX')\n",
    "    #5\n",
    "    elif nr==5:\n",
    "        print('XOXOX'); print('XXOXX'); print('XOXOX')\n",
    "    #6\n",
    "    elif nr==6:\n",
    "        print('XOXOX'); print('XOXOX'); print('XOXOX')\n",
    "    print('')\n",
    "\n",
    "#main\n",
    "rest=0\n",
    "while rest<1:\n",
    "    print('Metamo kaulinu skaits: ')\n",
    "    skaits=input('> ')\n",
    "    print('')\n",
    "    i=1\n",
    "    summa=0\n",
    "    while int(skaits)>=i:\n",
    "        vert=random.randint(1,6)\n",
    "        dice(vert)\n",
    "        summa=summa+vert\n",
    "        i=i+1\n",
    "    \n",
    "    #atkartosana\n",
    "    while 0<1:\n",
    "        print('atkartot? (y/n), sum - lai iegutu kaulinu summu')\n",
    "        skaits=input('> ')\n",
    "        if skaits=='sum' or skaits=='SUM':\n",
    "            print(\"summa: {}\".format(summa))\n",
    "            print('')\n",
    "\n",
    "        elif skaits=='y' or skaits=='Y':\n",
    "            break\n",
    "\n",
    "        elif skaits=='n' or skaits=='N':\n",
    "            rest=2\n",
    "            break\n",
    "\n",
    "        else:\n",
    "            print('NEPAREIZA IEVADE!')\n",
    "            print('')\n",
    "        "
   ]
  },
  {
   "cell_type": "code",
   "execution_count": null,
   "id": "5017bf71",
   "metadata": {},
   "outputs": [],
   "source": []
  }
 ],
 "metadata": {
  "kernelspec": {
   "display_name": "Python 3 (ipykernel)",
   "language": "python",
   "name": "python3"
  },
  "language_info": {
   "codemirror_mode": {
    "name": "ipython",
    "version": 3
   },
   "file_extension": ".py",
   "mimetype": "text/x-python",
   "name": "python",
   "nbconvert_exporter": "python",
   "pygments_lexer": "ipython3",
   "version": "3.9.7"
  }
 },
 "nbformat": 4,
 "nbformat_minor": 5
}
